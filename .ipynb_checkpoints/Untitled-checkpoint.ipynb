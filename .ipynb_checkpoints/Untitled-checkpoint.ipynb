{
 "cells": [
  {
   "cell_type": "code",
   "execution_count": 8,
   "id": "cef71a00",
   "metadata": {
    "scrolled": true
   },
   "outputs": [
    {
     "name": "stdout",
     "output_type": "stream",
     "text": [
      "5\n",
      "10 9 10 9 10\n",
      "7 2\n",
      "13\n"
     ]
    }
   ],
   "source": [
    "import math\n",
    "class_n = int(input())\n",
    "people_n = list(map(int, input().split()))\n",
    "total_m, manger = map(int, input().split())\n",
    "manger_n = 0\n",
    "manger_n += class_n\n",
    "for i in people_n:\n",
    "    manger_n += math.ceil((i - total_m)/manger)\n",
    "\n",
    "print(manger_n)"
   ]
  },
  {
   "cell_type": "code",
   "execution_count": null,
   "id": "006156fa",
   "metadata": {},
   "outputs": [],
   "source": [
    "import sys; input = sys.stdin.readline\n",
    "N = int(input())\n",
    "arr = list(map(int, input().split()))\n",
    "Head, Sub = map(int, input().split())\n",
    "\n",
    "answer = N\n",
    "for i in range(N):\n",
    "    arr[i] -= Head\n",
    "    if arr[i] > 0:\n",
    "        if arr[i]%Sub > 0:\n",
    "            answer += arr[i]//Sub + 1\n",
    "        else:\n",
    "            answer += arr[i]//Sub\n",
    "print(answer)"
   ]
  }
 ],
 "metadata": {
  "kernelspec": {
   "display_name": "Python 3",
   "language": "python",
   "name": "python3"
  },
  "language_info": {
   "codemirror_mode": {
    "name": "ipython",
    "version": 3
   },
   "file_extension": ".py",
   "mimetype": "text/x-python",
   "name": "python",
   "nbconvert_exporter": "python",
   "pygments_lexer": "ipython3",
   "version": "3.8.8"
  }
 },
 "nbformat": 4,
 "nbformat_minor": 5
}
